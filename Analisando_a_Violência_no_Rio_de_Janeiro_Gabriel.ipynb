{
  "nbformat": 4,
  "nbformat_minor": 0,
  "metadata": {
    "colab": {
      "provenance": [],
      "include_colab_link": true
    },
    "kernelspec": {
      "name": "python3",
      "display_name": "Python 3"
    }
  },
  "cells": [
    {
      "cell_type": "markdown",
      "metadata": {
        "id": "view-in-github",
        "colab_type": "text"
      },
      "source": [
        "<a href=\"https://colab.research.google.com/github/GabrielLeiteUTFPR/DataScience/blob/main/Analisando_a_Viol%C3%AAncia_no_Rio_de_Janeiro_Gabriel.ipynb\" target=\"_parent\"><img src=\"https://colab.research.google.com/assets/colab-badge.svg\" alt=\"Open In Colab\"/></a>"
      ]
    },
    {
      "cell_type": "markdown",
      "metadata": {
        "id": "kLI0gJtzDGuQ"
      },
      "source": [
        "# Analisando a Violência no Rio de Janeiro - Foco no aprendizado de DataScience\n",
        "\n",
        "Estudo de caso para a violência no Rio de Janeiro no periodo de `1991-2019`. "
      ]
    },
    {
      "cell_type": "markdown",
      "metadata": {
        "id": "0zxQHhIUDF_2"
      },
      "source": [
        "## Obtenção dos Dados\n",
        "\n",
        "\n",
        "Os dados foram obtidos de uma base da Polícia Militar do Rio de Janeiro e previamente tratada e disponibilizada no linK:\n",
        "\n",
        "* https://raw.githubusercontent.com/carlosfab/dsnp2/master/datasets/violencia_rio.csv\n",
        "\n",
        "Os dados originais desta base da dados podem ser encontrados no site:\n",
        "* http://www.ispdados.rj.gov.br/estatistica.html\n",
        "\n",
        "O Dashboard pode ser visto no site: \n",
        "* http://www.ispvisualizacao.rj.gov.br/index.html\n",
        "\n"
      ]
    },
    {
      "cell_type": "markdown",
      "metadata": {
        "id": "7vh4at0l90nr"
      },
      "source": [
        "### Importando os dados\n",
        "\n",
        "Importando os dados, usando `df = pd.read_csv(\"endereço_do_csv\")`"
      ]
    },
    {
      "cell_type": "code",
      "metadata": {
        "id": "CYLNme_OCX_R"
      },
      "source": [
        "import pandas as pd\n",
        "\n",
        "df = pd.read_csv(\"https://raw.githubusercontent.com/carlosfab/dsnp2/master/datasets/violencia_rio.csv\")"
      ],
      "execution_count": null,
      "outputs": []
    },
    {
      "cell_type": "markdown",
      "metadata": {
        "id": "qb5By2nIMS6m"
      },
      "source": [
        "## Análise Inicial dos Dados\n",
        "\n",
        "Para primeira análise é necessário o entendimento do Dataframe em que estamos trabalhando, para isso algumas estapas abaixo são realizadas para maior aproveitamento dos dados inicialmente.\n",
        "\n",
        "Descreva e execute as seguintes etapas:\n",
        "* Descobrir o tamanho do DataFrame (`shape`)\n",
        "* Visualizar os nomes das colunas (`colums`)\n",
        "* Ver os tipos das variáveis do DataFrame (`dtypes`)\n",
        "* Ter uma visão inicial com as cinco primeiras linhas (`head`)\n",
        "* Contabilizar os valores ausentes para em casos graves tomar uma ação (`ìsnull`) "
      ]
    },
    {
      "cell_type": "markdown",
      "source": [
        "O tamanho do seu DataFrame (`shape`)"
      ],
      "metadata": {
        "id": "2K67MvT7pPZD"
      }
    },
    {
      "cell_type": "code",
      "source": [
        "df.shape"
      ],
      "metadata": {
        "id": "7vkqYBLpod-0"
      },
      "execution_count": null,
      "outputs": []
    },
    {
      "cell_type": "markdown",
      "source": [
        "Extrair e imprimir os nomes das colunas (`columns`)"
      ],
      "metadata": {
        "id": "93b-psWqpI_G"
      }
    },
    {
      "cell_type": "code",
      "source": [
        "df.columns"
      ],
      "metadata": {
        "id": "_BjWgRzmoq6z"
      },
      "execution_count": null,
      "outputs": []
    },
    {
      "cell_type": "markdown",
      "source": [
        "Quais os tipos das variáveis (`dtypes`)"
      ],
      "metadata": {
        "id": "_Fj29xUfpW2r"
      }
    },
    {
      "cell_type": "code",
      "source": [
        "df.dtypes"
      ],
      "metadata": {
        "id": "_pSCJhbGovc8"
      },
      "execution_count": null,
      "outputs": []
    },
    {
      "cell_type": "markdown",
      "source": [
        "Visualizar as 5 primeiras linhas (`head`)"
      ],
      "metadata": {
        "id": "Y5429fsnpY-M"
      }
    },
    {
      "cell_type": "code",
      "source": [
        "df.head()"
      ],
      "metadata": {
        "id": "OH38MoAZoyys"
      },
      "execution_count": null,
      "outputs": []
    },
    {
      "cell_type": "markdown",
      "source": [
        "A porcentagem de valores ausentes das colunas (`isnull`)"
      ],
      "metadata": {
        "id": "ww5Lr5x5pbMk"
      }
    },
    {
      "cell_type": "code",
      "source": [
        "df.isnull().sum()/df.shape[0]"
      ],
      "metadata": {
        "id": "Pj-w3DwSo3Gs"
      },
      "execution_count": null,
      "outputs": []
    },
    {
      "cell_type": "markdown",
      "source": [
        "Ao analisar os dados em que apresentam valores ausentes é possivel ver uma grande quantidade de colunas em que isso ocorre, sendo caso necessário o preenchimento destes por valores pertinentes, podendo ser a média, mediana ou outro valor condizente. O código abaixo resolveria o problema:\n",
        "\n",
        "`variavel = df.coluna.median()\n",
        "df.coluna.fillna(variavel, inplace=true)`"
      ],
      "metadata": {
        "id": "ETcej2Sf5JzT"
      }
    },
    {
      "cell_type": "markdown",
      "metadata": {
        "id": "G6dnsNYm-41g"
      },
      "source": [
        "## Informações Estatísticas da Violência no Rio de Janeiro\n",
        "\n",
        "Para uma contextualização geral é realizado processamento estátistico básico para obtenção de valores simples que possam vir a dar idéias sobre o dataframe."
      ]
    },
    {
      "cell_type": "markdown",
      "source": [
        "Para as informações estátisticas gerais sobre o Dataframe:\n",
        "\n",
        "* Função `describe` mostra para todas colunas numéricas os dados:\n",
        "  * Soma\n",
        "  * Média\n",
        "  * Desvio padrão\n",
        "  * Valor mínimo\n",
        "  * Valor máximo\n",
        "  * 1°, 2° e 3° quartil\n",
        "\n"
      ],
      "metadata": {
        "id": "BAmA3xN9r1NU"
      }
    },
    {
      "cell_type": "code",
      "source": [
        "df.describe()"
      ],
      "metadata": {
        "id": "xmoomyZnrwXU"
      },
      "execution_count": null,
      "outputs": []
    },
    {
      "cell_type": "markdown",
      "source": [
        "Médias das seguintes variáveis (colunas):\n",
        "  * `roubo_veiculo`\n",
        "  * `furto_veiculos`\n",
        "  * `recuperacao_veiculos`"
      ],
      "metadata": {
        "id": "-cU3ckPRw9xD"
      }
    },
    {
      "cell_type": "code",
      "source": [
        "mean_roubo = df[\"roubo_veiculo\"].mean()\n",
        "mean_furto = df[\"furto_veiculos\"].mean()\n",
        "mean_recuperacao = df[\"recuperacao_veiculos\"].mean()\n",
        "\n",
        "print(f'Média em 28 anos é: \\n Roubo:{mean_roubo:.2f} \\n Furto:{mean_furto:.2f} \\n Recuperacao:{mean_recuperacao:.2f}')"
      ],
      "metadata": {
        "id": "dEjAu3bbs1lL"
      },
      "execution_count": null,
      "outputs": []
    },
    {
      "cell_type": "markdown",
      "source": [
        "Calcule qual a porcentagem de carros recuperados em relação aos carros roubados + carros furtados:\n",
        "  * $\\frac{\\text{recuperacao_veiculos}}{\\text{roubo_veiculo} + \\text{furto_veiculos}}$"
      ],
      "metadata": {
        "id": "JbbupBwIwqeC"
      }
    },
    {
      "cell_type": "code",
      "source": [
        "recuperados = (df.recuperacao_veiculos.sum()/(df.roubo_veiculo.sum()+df.furto_veiculos.sum()))*100\n",
        "\n",
        "recuperados"
      ],
      "metadata": {
        "id": "kl65wVgPvBxa"
      },
      "execution_count": null,
      "outputs": []
    },
    {
      "cell_type": "markdown",
      "source": [
        "Valores máximos (`max`) e mínimos (`min`) da coluna `hom_doloso`"
      ],
      "metadata": {
        "id": "Kvob77dkw1XC"
      }
    },
    {
      "cell_type": "code",
      "source": [
        "min = df.hom_doloso.min()\n",
        "max = df.hom_doloso.max()\n",
        "\n",
        "print(f'O valor mínimo de homicidios doloso é: {min} e o valor máximo para os homicidios: {max}')"
      ],
      "metadata": {
        "id": "_OAKB2qRwI8a"
      },
      "execution_count": null,
      "outputs": []
    },
    {
      "cell_type": "markdown",
      "metadata": {
        "id": "7WK0NBQZASKC"
      },
      "source": [
        "## Visualização de Dados\n",
        "\n",
        "Breve contextualização...\n",
        "\n",
        "\n",
        "\n"
      ]
    },
    {
      "cell_type": "code",
      "source": [
        "import matplotlib.pyplot as plt"
      ],
      "metadata": {
        "id": "V0T1hpmdy5KS"
      },
      "execution_count": null,
      "outputs": []
    },
    {
      "cell_type": "markdown",
      "source": [
        "Histograma de `hom_doloso`"
      ],
      "metadata": {
        "id": "X1K17u7l2i9q"
      }
    },
    {
      "cell_type": "code",
      "source": [
        "fig, ax = plt.subplots()\n",
        "\n",
        "df.hom_doloso.plot(kind=\"hist\",grid=\"on\", ax=ax)\n",
        "ax.set_title(\"Homicídios Dolosos\")\n",
        "ax.set_xlabel(\"Casos\")\n",
        "plt.tight_layout()"
      ],
      "metadata": {
        "id": "DNRhneTKywH6"
      },
      "execution_count": null,
      "outputs": []
    },
    {
      "cell_type": "markdown",
      "source": [
        "Gráfico de linhas para a variável `roubo_em_coletivo`"
      ],
      "metadata": {
        "id": "XiKIvuWu2c9K"
      }
    },
    {
      "cell_type": "code",
      "source": [
        "fig, ax = plt.subplots()\n",
        "\n",
        "df.roubo_em_coletivo.plot(kind=\"line\",ax=ax)\n",
        "ax.set_title(\"Roubos em coletivo\")\n",
        "ax.set_xlabel(\"Casos\")\n",
        "ax.set_ylabel(\"Quantidade\")\n",
        "plt.tight_layout()"
      ],
      "metadata": {
        "id": "NtrZlVDe1rFr"
      },
      "execution_count": null,
      "outputs": []
    },
    {
      "cell_type": "markdown",
      "metadata": {
        "id": "LCsiXvM3BcsO"
      },
      "source": [
        "## Conclusão\n",
        "\n",
        "Neste primeiro momento o foco está no aprendizado da utilização das bibliotecas Pandas e Matplotlib com Python. Contudo, é notado um grande número de valores ausentes no Datafreme, que em caso de um estudo mais aprofundado certamente apresentaria problemas caso não tratado. \n",
        "\n",
        "Diante dos dados é possivel ver que a quantidade de crimes cometidos é de certa forma alta, análisando os roubos e furtos de carros temos um montante de aproximadamente 4.000 casos por ano em média, sendo apenas 1.772 veiculos recuperados. Ou seja, apenas ~43% dos crimes cometidos neste caso são \"solucionados\".\n",
        "\n"
      ]
    }
  ]
}